{
 "cells": [
  {
   "cell_type": "code",
   "execution_count": 2,
   "id": "558613cf-24b9-4d34-8038-6b0b03b6e369",
   "metadata": {},
   "outputs": [
    {
     "name": "stdout",
     "output_type": "stream",
     "text": [
      "36\n"
     ]
    }
   ],
   "source": [
    "# Task 1\n",
    "def sum_nested_list(nested_list):\n",
    "    total = 0\n",
    "    for i in nested_list:\n",
    "        if isinstance(i, list):\n",
    "            total += sum_nested_list(i)\n",
    "        else:\n",
    "            total += i\n",
    "    return total\n",
    "\n",
    "nested_list = [1, [2, [3, 4], 5], 6, [7, 8]]\n",
    "print(sum_nested_list(nested_list))  \n"
   ]
  },
  {
   "cell_type": "code",
   "execution_count": 3,
   "id": "9669cb9d-76c9-4220-bf7d-ace93e4a8801",
   "metadata": {},
   "outputs": [
    {
     "name": "stdout",
     "output_type": "stream",
     "text": [
      "['bca', 'abc', 'bac', 'cba', 'cab', 'acb']\n",
      "['aab', 'aba', 'baa']\n"
     ]
    }
   ],
   "source": [
    "# Task-2\n",
    "def generate_permutations(s):\n",
    "    if len(s) == 1:\n",
    "        return [s]\n",
    "    permutations = []\n",
    "    for i, char in enumerate(s):\n",
    "        for perm in generate_permutations(s[:i] + s[i+1:]):\n",
    "            permutations.append(char + perm)\n",
    "    return list(set(permutations))\n",
    "\n",
    "print(generate_permutations(\"abc\")) \n",
    "print(generate_permutations(\"aab\"))  \n"
   ]
  },
  {
   "cell_type": "code",
   "execution_count": 4,
   "id": "96b2f669-c424-4a6b-b9db-f6ffd7f475b6",
   "metadata": {},
   "outputs": [
    {
     "name": "stdout",
     "output_type": "stream",
     "text": [
      "1400\n"
     ]
    }
   ],
   "source": [
    "# Task-3\n",
    "def calculate_directory_size(directory):\n",
    "    total_size = 0\n",
    "    for key, value in directory.items():\n",
    "        if isinstance(value, dict):\n",
    "            total_size += calculate_directory_size(value)\n",
    "        else:\n",
    "            total_size += value\n",
    "    return total_size\n",
    "\n",
    "directory_structure = {\n",
    "    \"file1.txt\": 200,\n",
    "    \"file2.txt\": 300,\n",
    "    \"subdir1\": {\n",
    "        \"file3.txt\": 400,\n",
    "        \"file4.txt\": 100\n",
    "    },\n",
    "    \"subdir2\": {\n",
    "        \"subsubdir1\": {\n",
    "            \"file5.txt\": 250\n",
    "        },\n",
    "        \"file6.txt\": 150\n",
    "    }\n",
    "}\n",
    "\n",
    "print(calculate_directory_size(directory_structure))  \n"
   ]
  },
  {
   "cell_type": "code",
   "execution_count": null,
   "id": "04d9d04a-6e2f-4ff5-a38a-017f178f405f",
   "metadata": {},
   "outputs": [],
   "source": []
  }
 ],
 "metadata": {
  "kernelspec": {
   "display_name": "Python 3 (ipykernel)",
   "language": "python",
   "name": "python3"
  },
  "language_info": {
   "codemirror_mode": {
    "name": "ipython",
    "version": 3
   },
   "file_extension": ".py",
   "mimetype": "text/x-python",
   "name": "python",
   "nbconvert_exporter": "python",
   "pygments_lexer": "ipython3",
   "version": "3.12.4"
  }
 },
 "nbformat": 4,
 "nbformat_minor": 5
}
