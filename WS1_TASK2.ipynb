{
  "nbformat": 4,
  "nbformat_minor": 0,
  "metadata": {
    "colab": {
      "provenance": []
    },
    "kernelspec": {
      "name": "python3",
      "display_name": "Python 3"
    },
    "language_info": {
      "name": "python"
    }
  },
  "cells": [
    {
      "cell_type": "code",
      "execution_count": 1,
      "metadata": {
        "id": "7QDE7CS0vwyf"
      },
      "outputs": [],
      "source": [
        "#Task 2\n",
        "import numpy as np"
      ]
    },
    {
      "cell_type": "code",
      "source": [
        "#Question 1\n",
        "array_numbers = np.arange(10,50)\n",
        "print(array_numbers)"
      ],
      "metadata": {
        "colab": {
          "base_uri": "https://localhost:8080/"
        },
        "id": "xX7rLBCNvyPh",
        "outputId": "433ecb14-0b83-40fa-b543-6157b599775e"
      },
      "execution_count": 2,
      "outputs": [
        {
          "output_type": "stream",
          "name": "stdout",
          "text": [
            "[10 11 12 13 14 15 16 17 18 19 20 21 22 23 24 25 26 27 28 29 30 31 32 33\n",
            " 34 35 36 37 38 39 40 41 42 43 44 45 46 47 48 49]\n"
          ]
        }
      ]
    },
    {
      "cell_type": "code",
      "source": [
        "#Question 2\n",
        "array_3d = np.arange(27).reshape(3,3,3)\n",
        "print(array_3d)"
      ],
      "metadata": {
        "colab": {
          "base_uri": "https://localhost:8080/"
        },
        "id": "vMiEYQS5vzOo",
        "outputId": "d1843a2d-5a1f-44d6-a972-7ddfb6e23a1d"
      },
      "execution_count": 3,
      "outputs": [
        {
          "output_type": "stream",
          "name": "stdout",
          "text": [
            "[[[ 0  1  2]\n",
            "  [ 3  4  5]\n",
            "  [ 6  7  8]]\n",
            "\n",
            " [[ 9 10 11]\n",
            "  [12 13 14]\n",
            "  [15 16 17]]\n",
            "\n",
            " [[18 19 20]\n",
            "  [21 22 23]\n",
            "  [24 25 26]]]\n"
          ]
        }
      ]
    },
    {
      "cell_type": "code",
      "source": [
        "#Question 3\n",
        "array_3d_identity = np.eye(3)\n",
        "print(array_3d_identity)"
      ],
      "metadata": {
        "colab": {
          "base_uri": "https://localhost:8080/"
        },
        "id": "TDxdm4klv09x",
        "outputId": "a831ae85-5de8-414b-d224-65f2500da8ae"
      },
      "execution_count": 4,
      "outputs": [
        {
          "output_type": "stream",
          "name": "stdout",
          "text": [
            "[[1. 0. 0.]\n",
            " [0. 1. 0.]\n",
            " [0. 0. 1.]]\n"
          ]
        }
      ]
    },
    {
      "cell_type": "code",
      "source": [
        "#Question 4\n",
        "random_array = np.random.random()\n",
        "mean = np.mean(random_array)\n",
        "print(mean)"
      ],
      "metadata": {
        "colab": {
          "base_uri": "https://localhost:8080/"
        },
        "id": "E-ZhrkFuv2Mo",
        "outputId": "f4b829c5-ca27-4572-afd8-3e1ef2ef8535"
      },
      "execution_count": 5,
      "outputs": [
        {
          "output_type": "stream",
          "name": "stdout",
          "text": [
            "0.2159722625358692\n"
          ]
        }
      ]
    },
    {
      "cell_type": "code",
      "source": [
        "#Question 5\n",
        "random_array_10d = np.random.rand(10,20)\n",
        "min_value = np.min(random_array_10d)\n",
        "max_value = np.max(random_array_10d)\n",
        "print(min_value)\n",
        "print(max_value)"
      ],
      "metadata": {
        "colab": {
          "base_uri": "https://localhost:8080/"
        },
        "id": "yVW0XhHev3KI",
        "outputId": "46014f4c-0cef-4365-dee0-6c12b1acca49"
      },
      "execution_count": 6,
      "outputs": [
        {
          "output_type": "stream",
          "name": "stdout",
          "text": [
            "0.006348964867899043\n",
            "0.9979654174127148\n"
          ]
        }
      ]
    },
    {
      "cell_type": "code",
      "source": [
        "#Question 6\n",
        "zero_arrays = np.zeros(10)\n",
        "zero_arrays[4] = 1\n",
        "print(zero_arrays)"
      ],
      "metadata": {
        "id": "On1NhVsHv47Y"
      },
      "execution_count": null,
      "outputs": []
    },
    {
      "cell_type": "code",
      "source": [
        "#Question 7\n",
        "arr = [1,2,0,0,4,0]\n",
        "reverse_array = np.flip(arr)\n",
        "print(reverse_array)"
      ],
      "metadata": {
        "id": "i-FJt-P1v6BB"
      },
      "execution_count": null,
      "outputs": []
    },
    {
      "cell_type": "code",
      "source": [
        "#Question 8\n",
        "new_array = np.zeros((4,4))\n",
        "arranged_array = np.pad(new_array, pad_width=1,mode='constant',constant_values=1)\n",
        "print(arranged_array)"
      ],
      "metadata": {
        "id": "BWptT-J-v7dn"
      },
      "execution_count": null,
      "outputs": []
    },
    {
      "cell_type": "code",
      "source": [
        "#Question 9\n",
        "checkerboard = np.zeros((8,8))\n",
        "checkerboard[1::2,::2] = 1\n",
        "checkerboard[::2,1::2] = 1\n",
        "print(checkerboard)"
      ],
      "metadata": {
        "id": "_Wl_xmDAv9Ig"
      },
      "execution_count": null,
      "outputs": []
    }
  ]
}