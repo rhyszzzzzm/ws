{
  "nbformat": 4,
  "nbformat_minor": 0,
  "metadata": {
    "colab": {
      "provenance": []
    },
    "kernelspec": {
      "name": "python3",
      "display_name": "Python 3"
    },
    "language_info": {
      "name": "python"
    }
  },
  "cells": [
    {
      "cell_type": "code",
      "execution_count": null,
      "metadata": {
        "id": "0jMWrvn6wGhX"
      },
      "outputs": [],
      "source": [
        "#Task 3\n",
        "import numpy as np\n",
        "x = np.array([[1,2],[3,5]])\n",
        "y = np.array([[5,6],[7,8]])\n",
        "v = np.array([9,10])\n",
        "w = np.array([11,12])"
      ]
    },
    {
      "cell_type": "code",
      "source": [
        "#Question 1\n",
        "add = np.add(x,y)\n",
        "print(\"addition\",add)"
      ],
      "metadata": {
        "id": "Mh518kQMwQrI"
      },
      "execution_count": null,
      "outputs": []
    },
    {
      "cell_type": "code",
      "source": [
        "#Question 2\n",
        "sub = np.subtract(x,y)\n",
        "print(\"subtraction\",sub)"
      ],
      "metadata": {
        "id": "SWenEcE0wRif"
      },
      "execution_count": null,
      "outputs": []
    },
    {
      "cell_type": "code",
      "source": [
        "#Question 3\n",
        "mul = np.multiply(v,w)\n",
        "print(\"multiplication\",mul)"
      ],
      "metadata": {
        "id": "W_nAOUYEwSWI"
      },
      "execution_count": null,
      "outputs": []
    },
    {
      "cell_type": "code",
      "source": [
        "#Question 4\n",
        "square = np.square(x)\n",
        "print(\"square\",square)"
      ],
      "metadata": {
        "id": "WiyEcvzGwTaZ"
      },
      "execution_count": null,
      "outputs": []
    },
    {
      "cell_type": "code",
      "source": [
        "#Question 5\n",
        "dot_product1 = np.dot(v,w)\n",
        "dot_product2 = np.dot(x,v)\n",
        "dot_product3 = np.dot(x,y)\n",
        "print(\"Dot product1: \",dot_product1)\n",
        "print(\"Dot product2: \",dot_product2)\n",
        "print(\"Dot product3: \",dot_product3)"
      ],
      "metadata": {
        "id": "SxVJYtJMwUSH"
      },
      "execution_count": null,
      "outputs": []
    },
    {
      "cell_type": "code",
      "source": [
        "#Question 6\n",
        "concatenate = np.concatenate((x,y),axis= 0)\n",
        "print(\"Concatenate: \",concatenate)"
      ],
      "metadata": {
        "id": "yAvlP_08wU2w"
      },
      "execution_count": null,
      "outputs": []
    },
    {
      "cell_type": "code",
      "source": [
        "#Question 7\n",
        "concatenate2 = np.concatenate((v,w),axis=1)\n",
        "print(\"Concatenate: \",concatenate2)"
      ],
      "metadata": {
        "id": "OtiI4pIMwaU_"
      },
      "execution_count": null,
      "outputs": []
    }
  ]
}