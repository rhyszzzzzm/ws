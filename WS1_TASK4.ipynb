{
  "nbformat": 4,
  "nbformat_minor": 0,
  "metadata": {
    "colab": {
      "provenance": []
    },
    "kernelspec": {
      "name": "python3",
      "display_name": "Python 3"
    },
    "language_info": {
      "name": "python"
    }
  },
  "cells": [
    {
      "cell_type": "code",
      "execution_count": null,
      "metadata": {
        "id": "s8s1Nv_WwmzD"
      },
      "outputs": [],
      "source": [
        "#Task 4\n",
        "import numpy as np\n",
        "A = np.array([[3,4],[7,8]])\n",
        "B = np.array([[5,3],[2,1]])\n"
      ]
    },
    {
      "cell_type": "code",
      "source": [
        "#Question 1\n",
        "A_inv = np.linalg.inv(A)\n",
        "print(\"Inverse of A: \",A_inv)\n",
        "A_pro = np.dot(A,A_inv)\n",
        "A_result = np.round(A_pro)\n",
        "print(\"Result of A: \",A_result)"
      ],
      "metadata": {
        "id": "H_XMAq77w2_i"
      },
      "execution_count": null,
      "outputs": []
    },
    {
      "cell_type": "code",
      "source": [
        "#Question 2\n",
        "AB_ind_pro = np.dot(A,B)\n",
        "AB_result = np.round(AB_ind_pro)\n",
        "print(\"Result of AB: \",AB_result)\n",
        "BA_ind_pro = np.dot(B,A)\n",
        "BA_result = np.round(BA_ind_pro)\n",
        "print(\"Result of AB: \",BA_result)"
      ],
      "metadata": {
        "id": "dwRXnkomw4Pv"
      },
      "execution_count": null,
      "outputs": []
    },
    {
      "cell_type": "code",
      "source": [
        "#Question 3\n",
        "AB_transpose = np.transpose(AB_ind_pro)\n",
        "print(\"Transpose of AB: \",AB_transpose)\n",
        "A_transpose = np.transpose(A)\n",
        "B_transpose = np.transpose(B)\n",
        "AB_transpose_pro = np.dot(A_transpose,B_transpose)\n",
        "AB_transpose_result = np.round(AB_transpose_pro)\n",
        "print(\"Result of AB transpose: \",AB_transpose_result)"
      ],
      "metadata": {
        "id": "7sdfMvpNw5N-"
      },
      "execution_count": null,
      "outputs": []
    },
    {
      "cell_type": "code",
      "source": [
        "#Question 4\n",
        "array_1=np.array([[2,-3,1],[1,-1,2],[3,1,-1]])\n",
        "array_2 = np.array([-1,-3,9])\n",
        "array1_inv = np.linalg.inv(array_1)\n",
        "X = np.dot(array1_inv,array_2 )\n",
        "print(X)"
      ],
      "metadata": {
        "id": "vTflI3IRw8kA"
      },
      "execution_count": null,
      "outputs": []
    }
  ]
}