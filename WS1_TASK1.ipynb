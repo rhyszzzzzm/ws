{
  "nbformat": 4,
  "nbformat_minor": 0,
  "metadata": {
    "colab": {
      "provenance": []
    },
    "kernelspec": {
      "name": "python3",
      "display_name": "Python 3"
    },
    "language_info": {
      "name": "python"
    }
  },
  "cells": [
    {
      "cell_type": "code",
      "execution_count": null,
      "metadata": {
        "id": "jKFYKJLZvHT7"
      },
      "outputs": [],
      "source": [
        "#Task 1\n",
        "import numpy as np"
      ]
    },
    {
      "cell_type": "code",
      "source": [
        "# Question 1\n",
        "array_empty_2d = np.empty([2,2])\n",
        "print(array_empty_2d)"
      ],
      "metadata": {
        "id": "8zEBou_qvItR"
      },
      "execution_count": null,
      "outputs": []
    },
    {
      "cell_type": "code",
      "source": [
        "# Question 2\n",
        "array_onearray = np.ones([4,2])\n",
        "print(array_onearray)"
      ],
      "metadata": {
        "id": "lr0vSyPDvO_x"
      },
      "execution_count": null,
      "outputs": []
    },
    {
      "cell_type": "code",
      "source": [
        "#Question 3\n",
        "array_full = np.full([3,3],6)\n",
        "print(array_full)"
      ],
      "metadata": {
        "id": "-ysF9iiwvR_4"
      },
      "execution_count": null,
      "outputs": []
    },
    {
      "cell_type": "code",
      "source": [
        "#Question 4\n",
        "array_zeros = np.zeros_like(array_full)\n",
        "print(array_zeros)"
      ],
      "metadata": {
        "id": "u6riBKRpvTdw"
      },
      "execution_count": null,
      "outputs": []
    },
    {
      "cell_type": "code",
      "source": [
        "#Question 5\n",
        "array_ones = np.ones_like(array_full)\n",
        "print(array_ones)"
      ],
      "metadata": {
        "id": "TQh128tZvU3R"
      },
      "execution_count": null,
      "outputs": []
    },
    {
      "cell_type": "code",
      "source": [
        "#Question 6\n",
        "new_list = [1,2,3,4]\n",
        "new_array = np.array(new_list)\n",
        "print(new_array)"
      ],
      "metadata": {
        "id": "Otlf_p6wvVfg"
      },
      "execution_count": null,
      "outputs": []
    }
  ]
}